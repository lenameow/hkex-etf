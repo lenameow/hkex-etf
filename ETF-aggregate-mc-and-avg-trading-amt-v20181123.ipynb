{
 "cells": [
  {
   "cell_type": "code",
   "execution_count": 2,
   "metadata": {},
   "outputs": [],
   "source": [
    "import pandas as pd\n",
    "import numpy as np\n",
    "from datetime import datetime\n",
    "from datetime import date, timedelta\n",
    "import re\n",
    "import sys\n",
    "import os\n",
    "import xlrd\n",
    "import io"
   ]
  },
  {
   "cell_type": "code",
   "execution_count": 13,
   "metadata": {},
   "outputs": [],
   "source": [
    "# ======= SETTINGS =========\n",
    "# etp_toggle = 'ETF'\n",
    "etp_toggle = 'LIP'\n",
    "\n",
    "### set target date; can set to today\n",
    "target_date = datetime(2018, 11, 28)\n",
    "\n",
    "if etp_toggle == 'ETF':\n",
    "    aum_col_name = \"AUM (Fund Total) ('000)\"\n",
    "else:\n",
    "    aum_col_name = \"AUM (L&I Product Total) ('000)\"\n",
    "    "
   ]
  },
  {
   "cell_type": "code",
   "execution_count": 14,
   "metadata": {},
   "outputs": [
    {
     "name": "stdout",
     "output_type": "stream",
     "text": [
      "20181128\n"
     ]
    }
   ],
   "source": [
    "### assume at most 15 holidays\n",
    "timedelta_max = 35\n",
    "past_date_ls = []\n",
    "\n",
    "timedelta_range = range(1, timedelta_max + 1)\n",
    "\n",
    "### retrieve data at 12pm each day\n",
    "# target_date = datetime.today()\n",
    "# dt = datetime.now()\n",
    "# if dt.hour < 12:\n",
    "#     timedelta_range = range(-1, timedelta_max - 1)\n",
    "# else:\n",
    "#     timedelta_range = range(0, timedelta_max)\n",
    "    \n",
    "for i in timedelta_range:    \n",
    "    past_date = target_date - timedelta(timedelta_max - i)\n",
    "    past_date_str = past_date.strftime('%Y%m%d')\n",
    "    past_date_ls.append(past_date_str)\n",
    "print(past_date_str)"
   ]
  },
  {
   "cell_type": "code",
   "execution_count": 7,
   "metadata": {},
   "outputs": [
    {
     "name": "stdout",
     "output_type": "stream",
     "text": [
      "First day files:  20181025-ETFList.csv 20181025-ETFList.xlsx\n"
     ]
    }
   ],
   "source": [
    "csv_names = [str(past_date + '-' + etp_toggle + 'List.csv') for past_date in past_date_ls]\n",
    "xlsx_names = [str(past_date + '-' + etp_toggle + 'List.xlsx') for past_date in past_date_ls]\n",
    "print('First day files: ', csv_names[0], xlsx_names[0])"
   ]
  },
  {
   "cell_type": "code",
   "execution_count": 15,
   "metadata": {},
   "outputs": [],
   "source": [
    "stock_code_ls = pd.read_excel('code_list_hk_all_' + etp_toggle + 's_v20181024.xlsx', header=None)\n",
    "stock_code_ls = stock_code_ls[0].tolist()"
   ]
  },
  {
   "cell_type": "code",
   "execution_count": 16,
   "metadata": {},
   "outputs": [],
   "source": [
    "# check the latest number\n",
    "data = pd.read_excel('/home/lena/jupyter-notebook/Lena-RA-ETF/HKEX/xlsx-version/%s_' % past_date_str + etp_toggle + 'List.xls', skiprows=1) \n",
    "data[\"T/O\"] = data[\"T/O ('000)\"] * 1000\n",
    "# data[\"T/O\"]"
   ]
  },
  {
   "cell_type": "code",
   "execution_count": 17,
   "metadata": {},
   "outputs": [
    {
     "name": "stdout",
     "output_type": "stream",
     "text": [
      "File saved: /home/lena/jupyter-notebook/Lena-RA-ETF/hkex_LIP_22d_T_O_in_dollars_raw_v20181128.xlsx\n",
      "File saved: /home/lena/jupyter-notebook/Lena-RA-ETF/hkex_LIP_22d_avg_T_O_in_dollars_v20181128.xlsx\n"
     ]
    }
   ],
   "source": [
    "# finalized-T/O: in specified currency\n",
    "T_O_table = pd.DataFrame(columns=stock_code_ls)\n",
    "\n",
    "for past_date_str in past_date_ls:\n",
    "    data = pd.read_excel('/home/lena/jupyter-notebook/Lena-RA-ETF/HKEX/xlsx-version/%s_' % past_date_str + etp_toggle + 'List.xls', skiprows=1) \n",
    "    \n",
    "    data_date = pd.read_excel('/home/lena/jupyter-notebook/Lena-RA-ETF/HKEX/xlsx-version/%s_' % past_date_str + etp_toggle + 'List.xls') \n",
    "    data_date = data_date.columns[0]\n",
    "    data_date = data_date[data_date.find(\": \") + 2:]\n",
    "    data_date_dtobj = datetime.strptime(data_date, '%d/%m/%Y')\n",
    "    \n",
    "    data[\"T/O\"] = data[\"T/O ('000)\"] * 1000\n",
    "\n",
    "    df_tmp = pd.DataFrame([data[\"T/O\"].tolist()], index=[data_date_dtobj.strftime('%Y-%m-%d')], columns=stock_code_ls)\n",
    "    T_O_table = T_O_table.append(df_tmp)\n",
    "    \n",
    "T_O_table.drop_duplicates(inplace=True)\n",
    "\n",
    "if len(T_O_table) >= 22:\n",
    "    T_O_table = T_O_table.iloc[len(T_O_table)-22:, :]    \n",
    "else:\n",
    "    print('insufficient days: at least 22 days of data is needed, only %d days found' % len(T_O_table))\n",
    "# T_O_table.head()\n",
    "\n",
    "filename_T_O_raw = '/home/lena/jupyter-notebook/Lena-RA-ETF/hkex_' + etp_toggle + '_22d_T_O_in_dollars_raw_v%s.xlsx' % past_date_ls[-1]\n",
    "filename_T_O = '/home/lena/jupyter-notebook/Lena-RA-ETF/hkex_' + etp_toggle + '_22d_avg_T_O_in_dollars_v%s.xlsx' % past_date_ls[-1]\n",
    "\n",
    "writer = pd.ExcelWriter(filename_T_O_raw)\n",
    "T_O_table.to_excel(writer, sheet_name = 'hk_' + etp_toggle + '_22dTO_dollarraw_' + past_date_ls[-1])\n",
    "writer.save()\n",
    "print(\"File saved: %s\" % filename_T_O_raw)\n",
    "\n",
    "T_O_table_1 = T_O_table.copy()\n",
    "\n",
    "writer = pd.ExcelWriter(filename_T_O)\n",
    "T_O_table_1.mean().to_frame().to_excel(writer, sheet_name = 'hk-' + etp_toggle + '-avg-TO-dollar-' + past_date_ls[-1])\n",
    "writer.save()\n",
    "print(\"File saved: %s\" % filename_T_O)"
   ]
  },
  {
   "cell_type": "code",
   "execution_count": 18,
   "metadata": {},
   "outputs": [
    {
     "name": "stdout",
     "output_type": "stream",
     "text": [
      "len(closing_price_table) = len(outstanding_shares_df)\n"
     ]
    }
   ],
   "source": [
    "# finalized\n",
    "# closing price: in specified currency\n",
    "closing_price_table = pd.DataFrame(columns=stock_code_ls)\n",
    "\n",
    "past_date_str = past_date_ls[-1]\n",
    "\n",
    "data = pd.read_excel('/home/lena/jupyter-notebook/Lena-RA-ETF/HKEX/xlsx-version/%s_' % past_date_str + etp_toggle + 'List.xls', skiprows=1) \n",
    "\n",
    "data_date = pd.read_excel('/home/lena/jupyter-notebook/Lena-RA-ETF/HKEX/xlsx-version/%s_' % past_date_str + etp_toggle + 'List.xls') \n",
    "data_date = data_date.columns[0]\n",
    "data_date = data_date[data_date.find(\": \") + 2:]\n",
    "data_date_dtobj = datetime.strptime(data_date, '%d/%m/%Y')\n",
    "\n",
    "# df_tmp = pd.DataFrame([ls_tmp], index=['20180919'])\n",
    "df_tmp = pd.DataFrame([data[\"Closing Price\"].tolist()], index=[\"Closing Price\"], columns=stock_code_ls)\n",
    "closing_price_table = closing_price_table.append(df_tmp)\n",
    "closing_price_table = closing_price_table.transpose()\n",
    "# closing_price_table.head(), len(closing_price_table)\n",
    "\n",
    "outstanding_shares_df = pd.read_excel('hkex-' + etp_toggle + '-oustanding-shares-v20181128.xlsx', index=False)\n",
    "outstanding_shares_df.set_index('index_code_hk', inplace=True)\n",
    "# outstanding_shares_df.head(), len(outstanding_shares_df)\n",
    "\n",
    "if len(closing_price_table) == len(outstanding_shares_df):\n",
    "    print('len(closing_price_table) = len(outstanding_shares_df)')\n",
    "else:\n",
    "    print('len(closing_price_table) != len(outstanding_shares_df)')\n",
    "    \n",
    "# AUM table: in specified currency, for checking with calculated Market Cap\n",
    "aum_table = pd.DataFrame(columns=stock_code_ls)\n",
    "\n",
    "# past_date_str = past_date_ls[-1]\n",
    "\n",
    "# data = pd.read_excel('/home/lena/jupyter-notebook/Lena-RA-ETF/HKEX/xlsx-version/%s_' % past_date_str + etp_toggle + 'List.xls', skiprows=1) \n",
    "\n",
    "# data_date = pd.read_excel('/home/lena/jupyter-notebook/Lena-RA-ETF/HKEX/xlsx-version/%s_' % past_date_str + etp_toggle + 'List.xls') \n",
    "# data_date = data_date.columns[0]\n",
    "# data_date = data_date[data_date.find(\": \") + 2:]\n",
    "# data_date_dtobj = datetime.strptime(data_date, '%d/%m/%Y')\n",
    "\n",
    "# df_tmp = pd.DataFrame([ls_tmp], index=['20180919'])\n",
    "df_tmp = pd.DataFrame([data[aum_col_name].tolist()], index=[aum_col_name], columns=stock_code_ls)\n",
    "aum_table = aum_table.append(df_tmp)\n",
    "aum_table = aum_table.transpose()\n",
    "# aum_table\n",
    "\n",
    "mc_df = closing_price_table.merge(outstanding_shares_df, left_index=True, right_index=True)\n",
    "mc_df[\"market_cap ('000)\"] = mc_df[\"Closing Price\"] * mc_df.outstanding_shares / 1000\n",
    "mc_df = mc_df.merge(aum_table, left_index=True, right_index=True)\n",
    "\n",
    "writer = pd.ExcelWriter('/home/lena/jupyter-notebook/Lena-RA-ETF/hkex_' + etp_toggle + '_market_cap_v%s.xlsx' % past_date_ls[-1])\n",
    "mc_df.to_excel(writer, sheet_name = 'hk-' + etp_toggle + '-marketcap-' + past_date_ls[-1])\n",
    "writer.save()"
   ]
  },
  {
   "cell_type": "code",
   "execution_count": null,
   "metadata": {},
   "outputs": [],
   "source": []
  }
 ],
 "metadata": {
  "kernelspec": {
   "display_name": "Python 3",
   "language": "python",
   "name": "python3"
  },
  "language_info": {
   "codemirror_mode": {
    "name": "ipython",
    "version": 3
   },
   "file_extension": ".py",
   "mimetype": "text/x-python",
   "name": "python",
   "nbconvert_exporter": "python",
   "pygments_lexer": "ipython3",
   "version": "3.6.5"
  }
 },
 "nbformat": 4,
 "nbformat_minor": 2
}
