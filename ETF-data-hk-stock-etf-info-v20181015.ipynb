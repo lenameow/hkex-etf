{
 "cells": [
  {
   "cell_type": "code",
   "execution_count": 1,
   "metadata": {},
   "outputs": [],
   "source": [
    "import requests\n",
    "from bs4 import BeautifulSoup\n",
    "from selenium import webdriver\n",
    "import pandas as pd\n",
    "import time\n",
    "import random\n",
    "import datetime\n",
    "import sys\n",
    "import re\n",
    "import warnings\n",
    "warnings.filterwarnings(\"ignore\")"
   ]
  },
  {
   "cell_type": "code",
   "execution_count": 2,
   "metadata": {},
   "outputs": [],
   "source": [
    "def strQ2B(ustring):\n",
    "    \"\"\"全角转半角\"\"\"\n",
    "    rstring = \"\"\n",
    "    for uchar in ustring:\n",
    "        inside_code=ord(uchar)\n",
    "        if inside_code == 12288:                              #全角空格直接转换            \n",
    "            inside_code = 32 \n",
    "        elif (inside_code >= 65281 and inside_code <= 65374): #全角字符（除空格）根据关系转化\n",
    "            inside_code -= 65248\n",
    "\n",
    "        rstring += chr(inside_code)\n",
    "    return rstring\n",
    "    \n",
    "def strB2Q(ustring):\n",
    "    \"\"\"半角转全角\"\"\"\n",
    "    rstring = \"\"\n",
    "    for uchar in ustring:\n",
    "        inside_code=ord(uchar)\n",
    "        if inside_code == 32:                                 #半角空格直接转化                  \n",
    "            inside_code = 12288\n",
    "        elif inside_code >= 32 and inside_code <= 126:        #半角字符（除空格）根据关系转化\n",
    "            inside_code += 65248\n",
    "\n",
    "        rstring += chr(inside_code)\n",
    "    return rstring"
   ]
  },
  {
   "cell_type": "code",
   "execution_count": 11,
   "metadata": {},
   "outputs": [],
   "source": [
    "etp_toggle = 'ETF'\n",
    "# etp_toggle = 'LIP'    "
   ]
  },
  {
   "cell_type": "code",
   "execution_count": 14,
   "metadata": {},
   "outputs": [
    {
     "name": "stdout",
     "output_type": "stream",
     "text": [
      "hkex-data-ETF-v20181129-supplement-2.csv created.\n"
     ]
    }
   ],
   "source": [
    "# read in code list and create file\n",
    "index_code_hk_stocks_pd = pd.read_excel('code_list_hk_all_' + etp_toggle + 's_v20181024.xlsx', header=None)\n",
    "index_code_hk_stocks_ls = index_code_hk_stocks_pd[0].tolist()\n",
    "\n",
    "columns_ls = ['index_code_hk', 'etf_name', 'listing_date', 'exp_ratio', 'suspend_status', 'suspend_date', 'replication_method', 'outstanding_shares', 'prev_close', 'lot_size']\n",
    "results_filename = 'hkex-data-' + etp_toggle + '-v%s-supplement-2.csv' % datetime.date.today().strftime('%Y%m%d')\n",
    "\n",
    "results_header_df = pd.DataFrame(columns = columns_ls)\n",
    "results_header_df.to_csv(results_filename, header=True)       \n",
    "print(results_filename + \" created.\")  "
   ]
  },
  {
   "cell_type": "code",
   "execution_count": 8,
   "metadata": {},
   "outputs": [
    {
     "data": {
      "text/html": [
       "<div>\n",
       "<style scoped>\n",
       "    .dataframe tbody tr th:only-of-type {\n",
       "        vertical-align: middle;\n",
       "    }\n",
       "\n",
       "    .dataframe tbody tr th {\n",
       "        vertical-align: top;\n",
       "    }\n",
       "\n",
       "    .dataframe thead th {\n",
       "        text-align: right;\n",
       "    }\n",
       "</style>\n",
       "<table border=\"1\" class=\"dataframe\">\n",
       "  <thead>\n",
       "    <tr style=\"text-align: right;\">\n",
       "      <th></th>\n",
       "      <th>index_code_hk</th>\n",
       "      <th>etf_name</th>\n",
       "      <th>listing_date</th>\n",
       "      <th>exp_ratio</th>\n",
       "      <th>suspend_status</th>\n",
       "      <th>suspend_date</th>\n",
       "      <th>replication_method</th>\n",
       "      <th>outstanding_shares</th>\n",
       "      <th>prev_close</th>\n",
       "      <th>lot_size</th>\n",
       "    </tr>\n",
       "  </thead>\n",
       "  <tbody>\n",
       "  </tbody>\n",
       "</table>\n",
       "</div>"
      ],
      "text/plain": [
       "Empty DataFrame\n",
       "Columns: [index_code_hk, etf_name, listing_date, exp_ratio, suspend_status, suspend_date, replication_method, outstanding_shares, prev_close, lot_size]\n",
       "Index: []"
      ]
     },
     "execution_count": 8,
     "metadata": {},
     "output_type": "execute_result"
    }
   ],
   "source": [
    "results_header_df"
   ]
  },
  {
   "cell_type": "code",
   "execution_count": 15,
   "metadata": {},
   "outputs": [
    {
     "name": "stdout",
     "output_type": "stream",
     "text": [
      "86 / 185   processed, time elapsed:  0:00:50.200434\n",
      "About to sleep 7 s\n",
      "92 / 185   processed, time elapsed:  0:01:14.872062\n",
      "About to sleep 2 s\n",
      "127 / 185   processed, time elapsed:  0:01:12.314530\n",
      "About to sleep 7 s\n",
      "144 / 185   processed, time elapsed:  0:01:13.040966\n",
      "About to sleep 8 s\n",
      "180 / 185   processed, time elapsed:  0:03:29.151843\n",
      "About to sleep 8 s\n",
      "181 / 185   processed, time elapsed:  0:01:11.829812\n",
      "About to sleep 3 s\n",
      "======= Finished =======\n"
     ]
    }
   ],
   "source": [
    "for i in [85, 91, 126, 143, 179, 180]:\n",
    "# for i in range(len(index_code_hk_stocks_ls)):\n",
    "    \n",
    "    tic = datetime.datetime.now()\n",
    "    \n",
    "    try: \n",
    "        index_code_hk = index_code_hk_stocks_ls[i]\n",
    "        index_page = 'https://sc.hkex.com.hk/TuniS/www.hkex.com.hk/market-data/securities-prices/exchange-traded-products/exchange-traded-products-quote?sym=' + str(index_code_hk) + '&sc_lang=zh-cn'\n",
    "        driver = webdriver.PhantomJS() \n",
    "        driver.get(index_page)\n",
    "        soup = BeautifulSoup(driver.page_source)\n",
    "\n",
    "        etf_name = soup.find_all('p')[0].get_text()\n",
    "        etf_name = etf_name if not None else ''\n",
    "        etf_name = etf_name[:etf_name.rfind('(')].strip()\n",
    "        etf_name = strQ2B(etf_name)\n",
    "        etf_name = etf_name.replace('—', '-')\n",
    "        \n",
    "        listing_date = soup.find_all(\"td\", \"ano col_listingdate\")[0].get_text()\n",
    "        listing_year = listing_date[listing_date.find(\"年\")-4:listing_date.find(\"年\")]\n",
    "        listing_month = listing_date[listing_date.find(\"年\")+1:listing_date.find(\"月\")]\n",
    "        listing_day = listing_date[listing_date.find(\"月\")+1:listing_date.find(\"日\")]\n",
    "        listing_date_output = str(listing_year + '/' + listing_month + '/' + listing_day)\n",
    "\n",
    "        exp_ratio = soup.find_all('td', 'ano col_managefee')[0].get_text()\n",
    "        exp_ratio = exp_ratio if not None else ''\n",
    "        exp_ratio = exp_ratio[:exp_ratio.find('%')]\n",
    "        \n",
    "        suspend_tag = soup.find_all('span', 'susico')[0]\n",
    "        suspend = 'suspend'\n",
    "        \n",
    "        if suspend in str(suspend_tag):\n",
    "            suspend_status = 1\n",
    "            \n",
    "            suspend_date = soup.find_all(\"dt\", \"ico_data col_aum_date\")[0].get_text()\n",
    "            suspend_year = suspend_date[suspend_date.find(\"年\")-4:suspend_date.find(\"年\")]\n",
    "            suspend_month = suspend_date[suspend_date.find(\"年\")+1:suspend_date.find(\"月\")]\n",
    "            suspend_day = suspend_date[suspend_date.find(\"月\")+1:suspend_date.find(\"日\")]\n",
    "\n",
    "            suspend_date_output = str(suspend_year + '/' + suspend_month + '/' + suspend_day)\n",
    "        else:\n",
    "            suspend_status = 0\n",
    "            suspend_date_output = '-'\n",
    "\n",
    "        replication_method = soup.find_all(\"td\", \"col_replicatemethod\")[0].get_text()\n",
    "        \n",
    "        num_issued_shares = soup.find_all(\"td\", \"ano col_issued_shares\")[0].get_text()\n",
    "        num_issued_shares = num_issued_shares[:num_issued_shares.find(\"(\")].strip().replace(\",\", \"\")\n",
    "        \n",
    "        prev_close = soup.find_all(\"dt\", \"ico_data col_prevcls\")[0].get_text()\n",
    "        \n",
    "        lot_size = soup.find_all(\"dt\", \"ico_data col_lotsize\")[0].get_text()\n",
    "                \n",
    "        df_tmp = pd.DataFrame([[index_code_hk, etf_name, listing_date_output, exp_ratio, suspend_status, suspend_date_output, replication_method, num_issued_shares, prev_close, lot_size]], columns = columns_ls)\n",
    "\n",
    "        df_tmp.to_csv(results_filename, header=False, mode='a')\n",
    "#         sys.stdout.flush()\n",
    "\n",
    "    except:\n",
    "        print(index_code_hk, ': error -------------------------')\n",
    "        sys.stdout.flush()\n",
    "    \n",
    "    toc = datetime.datetime.now()\n",
    "    print(i+1, '/', len(index_code_hk_stocks_ls), ' ', 'processed, time elapsed: ', toc - tic)\n",
    "    sys.stdout.flush()\n",
    "\n",
    "    rand = random.randint(2,10)\n",
    "    print(\"About to sleep %d s\" % rand)\n",
    "    sys.stdout.flush()\n",
    "    \n",
    "    time.sleep(rand)\n",
    "\n",
    "print(\"======= Finished =======\")"
   ]
  },
  {
   "cell_type": "code",
   "execution_count": null,
   "metadata": {},
   "outputs": [],
   "source": [
    "# test for new elements\n",
    "index_page = 'https://sc.hkex.com.hk/TuniS/www.hkex.com.hk/market-data/securities-prices/exchange-traded-products/exchange-traded-products-quote?sym=2800&sc_lang=zh-cn'\n",
    "driver = webdriver.PhantomJS()        \n",
    "driver.get(index_page)\n",
    "soup = BeautifulSoup(driver.page_source)\n",
    "\n"
   ]
  }
 ],
 "metadata": {
  "kernelspec": {
   "display_name": "Python 3",
   "language": "python",
   "name": "python3"
  },
  "language_info": {
   "codemirror_mode": {
    "name": "ipython",
    "version": 3
   },
   "file_extension": ".py",
   "mimetype": "text/x-python",
   "name": "python",
   "nbconvert_exporter": "python",
   "pygments_lexer": "ipython3",
   "version": "3.6.5"
  }
 },
 "nbformat": 4,
 "nbformat_minor": 2
}
